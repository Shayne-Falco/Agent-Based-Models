{
 "cells": [
  {
   "cell_type": "code",
   "execution_count": 2,
   "metadata": {},
   "outputs": [],
   "source": [
    "import mesa\n",
    "from mesa_models.boltzmann_wealth_model.model import BoltzmannWealthModel"
   ]
  },
  {
   "cell_type": "code",
   "execution_count": 3,
   "metadata": {},
   "outputs": [],
   "source": [
    "def agent_portrayal(agent):\n",
    "    return {\n",
    "        \"color\": \"tab:blue\",\n",
    "        \"size\": 50,\n",
    "    }"
   ]
  },
  {
   "cell_type": "code",
   "execution_count": 4,
   "metadata": {},
   "outputs": [],
   "source": [
    "model_params = {\n",
    "    \"N\": {\n",
    "        \"type\": \"SliderInt\",\n",
    "        \"value\": 50,\n",
    "        \"label\": \"Number of agents:\",\n",
    "        \"min\": 10,\n",
    "        \"max\": 100,\n",
    "        \"step\": 1,\n",
    "    },\n",
    "    \"width\": 10,\n",
    "    \"height\": 10,\n",
    "}"
   ]
  },
  {
   "cell_type": "code",
   "execution_count": 5,
   "metadata": {},
   "outputs": [
    {
     "data": {
      "application/vnd.jupyter.widget-view+json": {
       "model_id": "d218e2375ac64c4eb6b4529922994287",
       "version_major": 2,
       "version_minor": 0
      },
      "text/html": [
       "Cannot show widget. You probably want to rerun the code cell above (<i>Click in the code cell, and press Shift+Enter <kbd>⇧</kbd>+<kbd>↩</kbd></i>)."
      ],
      "text/plain": [
       "Cannot show ipywidgets in text"
      ]
     },
     "metadata": {},
     "output_type": "display_data"
    }
   ],
   "source": [
    "from mesa.experimental import JupyterViz\n",
    "\n",
    "page = JupyterViz(\n",
    "    BoltzmannWealthModel,\n",
    "    model_params,\n",
    "    measures=[\"Gini\"],\n",
    "    name=\"Money Model\",\n",
    "    agent_portrayal=agent_portrayal,\n",
    ")\n",
    "# This is required to render the visualization in the Jupyter notebook\n",
    "page"
   ]
  },
  {
   "cell_type": "code",
   "execution_count": 6,
   "metadata": {},
   "outputs": [],
   "source": [
    "def agent_portrayal(agent):\n",
    "    size = 10\n",
    "    color = \"tab:red\"\n",
    "    if agent.wealth > 0:\n",
    "        size = 50\n",
    "        color = \"tab:blue\"\n",
    "    return {\"size\": size, \"color\": color}"
   ]
  },
  {
   "cell_type": "code",
   "execution_count": 7,
   "metadata": {},
   "outputs": [
    {
     "data": {
      "application/vnd.jupyter.widget-view+json": {
       "model_id": "25f207aa7bc24aa58f6e39201269ff15",
       "version_major": 2,
       "version_minor": 0
      },
      "text/html": [
       "Cannot show widget. You probably want to rerun the code cell above (<i>Click in the code cell, and press Shift+Enter <kbd>⇧</kbd>+<kbd>↩</kbd></i>)."
      ],
      "text/plain": [
       "Cannot show ipywidgets in text"
      ]
     },
     "metadata": {},
     "output_type": "display_data"
    }
   ],
   "source": [
    "page = JupyterViz(\n",
    "    BoltzmannWealthModel,\n",
    "    model_params,\n",
    "    measures=[\"Gini\"],\n",
    "    name=\"Money Model\",\n",
    "    agent_portrayal=agent_portrayal,\n",
    ")\n",
    "# This is required to render the visualization in the Jupyter notebook\n",
    "page"
   ]
  },
  {
   "cell_type": "code",
   "execution_count": 8,
   "metadata": {},
   "outputs": [],
   "source": [
    "import solara\n",
    "from matplotlib.figure import Figure\n",
    "\n",
    "\n",
    "def make_histogram(model):\n",
    "    # Note: you must initialize a figure using this method instead of\n",
    "    # plt.figure(), for thread safety purpose\n",
    "    fig = Figure()\n",
    "    ax = fig.subplots()\n",
    "    wealth_vals = [agent.wealth for agent in model.schedule.agents]\n",
    "    # Note: you have to use Matplotlib's OOP API instead of plt.hist\n",
    "    # because plt.hist is not thread-safe.\n",
    "    ax.hist(wealth_vals, bins=10)\n",
    "    solara.FigureMatplotlib(fig)"
   ]
  },
  {
   "cell_type": "code",
   "execution_count": 9,
   "metadata": {},
   "outputs": [
    {
     "data": {
      "application/vnd.jupyter.widget-view+json": {
       "model_id": "214625e4eb22443fa2002d9519b4c181",
       "version_major": 2,
       "version_minor": 0
      },
      "text/html": [
       "Cannot show widget. You probably want to rerun the code cell above (<i>Click in the code cell, and press Shift+Enter <kbd>⇧</kbd>+<kbd>↩</kbd></i>)."
      ],
      "text/plain": [
       "Cannot show ipywidgets in text"
      ]
     },
     "metadata": {},
     "output_type": "display_data"
    }
   ],
   "source": [
    "page = JupyterViz(\n",
    "    BoltzmannWealthModel,\n",
    "    model_params,\n",
    "    measures=[\"Gini\", make_histogram],\n",
    "    name=\"Money Model\",\n",
    "    agent_portrayal=agent_portrayal,\n",
    ")\n",
    "# This is required to render the visualization in the Jupyter notebook\n",
    "page"
   ]
  },
  {
   "cell_type": "code",
   "execution_count": null,
   "metadata": {},
   "outputs": [],
   "source": []
  }
 ],
 "metadata": {
  "kernelspec": {
   "display_name": "Python 3",
   "language": "python",
   "name": "python3"
  },
  "language_info": {
   "codemirror_mode": {
    "name": "ipython",
    "version": 3
   },
   "file_extension": ".py",
   "mimetype": "text/x-python",
   "name": "python",
   "nbconvert_exporter": "python",
   "pygments_lexer": "ipython3",
   "version": "3.10.11"
  }
 },
 "nbformat": 4,
 "nbformat_minor": 2
}
